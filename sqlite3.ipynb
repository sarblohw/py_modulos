{
 "cells": [
  {
   "cell_type": "code",
   "execution_count": 1,
   "metadata": {},
   "outputs": [],
   "source": [
    "import pandas as pd\n",
    "import sqlite3 as sql"
   ]
  },
  {
   "cell_type": "code",
   "execution_count": 2,
   "metadata": {},
   "outputs": [],
   "source": [
    "connection = sql.connect(\"test.db\")"
   ]
  },
  {
   "cell_type": "code",
   "execution_count": 3,
   "metadata": {},
   "outputs": [],
   "source": [
    "url = \"https://en.wikipedia.org/wiki/Grand_Theft_Auto\"\n",
    "html_doc = pd.read_html(url)"
   ]
  },
  {
   "cell_type": "code",
   "execution_count": 5,
   "metadata": {},
   "outputs": [
    {
     "data": {
      "text/plain": [
       "18"
      ]
     },
     "execution_count": 5,
     "metadata": {},
     "output_type": "execute_result"
    }
   ],
   "source": [
    "len(html_doc)"
   ]
  },
  {
   "cell_type": "code",
   "execution_count": 11,
   "metadata": {},
   "outputs": [],
   "source": [
    "gta = html_doc[4]"
   ]
  },
  {
   "cell_type": "code",
   "execution_count": 14,
   "metadata": {},
   "outputs": [
    {
     "data": {
      "text/html": [
       "<div>\n",
       "<style scoped>\n",
       "    .dataframe tbody tr th:only-of-type {\n",
       "        vertical-align: middle;\n",
       "    }\n",
       "\n",
       "    .dataframe tbody tr th {\n",
       "        vertical-align: top;\n",
       "    }\n",
       "\n",
       "    .dataframe thead th {\n",
       "        text-align: right;\n",
       "    }\n",
       "</style>\n",
       "<table border=\"1\" class=\"dataframe\">\n",
       "  <thead>\n",
       "    <tr style=\"text-align: right;\">\n",
       "      <th></th>\n",
       "      <th>Year</th>\n",
       "      <th>Game</th>\n",
       "      <th>Sales</th>\n",
       "      <th>Acquired label(s)</th>\n",
       "    </tr>\n",
       "  </thead>\n",
       "  <tbody>\n",
       "    <tr>\n",
       "      <th>0</th>\n",
       "      <td>1997</td>\n",
       "      <td>Grand Theft Auto</td>\n",
       "      <td>3.5 million+[205]</td>\n",
       "      <td>PS1 Greatest Hits, Platinum</td>\n",
       "    </tr>\n",
       "    <tr>\n",
       "      <th>1</th>\n",
       "      <td>1999</td>\n",
       "      <td>Grand Theft Auto: London 1969</td>\n",
       "      <td>NaN</td>\n",
       "      <td>NaN</td>\n",
       "    </tr>\n",
       "    <tr>\n",
       "      <th>2</th>\n",
       "      <td>1999</td>\n",
       "      <td>Grand Theft Auto: London 1961</td>\n",
       "      <td>NaN</td>\n",
       "      <td>NaN</td>\n",
       "    </tr>\n",
       "  </tbody>\n",
       "</table>\n",
       "</div>"
      ],
      "text/plain": [
       "   Year                           Game              Sales  \\\n",
       "0  1997               Grand Theft Auto  3.5 million+[205]   \n",
       "1  1999  Grand Theft Auto: London 1969                NaN   \n",
       "2  1999  Grand Theft Auto: London 1961                NaN   \n",
       "\n",
       "             Acquired label(s)  \n",
       "0  PS1 Greatest Hits, Platinum  \n",
       "1                          NaN  \n",
       "2                          NaN  "
      ]
     },
     "execution_count": 14,
     "metadata": {},
     "output_type": "execute_result"
    }
   ],
   "source": [
    "gta.head(3)"
   ]
  },
  {
   "cell_type": "code",
   "execution_count": 26,
   "metadata": {},
   "outputs": [
    {
     "name": "stdout",
     "output_type": "stream",
     "text": [
      "('1997', 'Grand Theft Auto', '3.5 million+[205]', 'PS1 Greatest Hits, Platinum')\n",
      "('1999', 'Grand Theft Auto: London 1969', nan, nan)\n",
      "('1999', 'Grand Theft Auto: London 1961', nan, nan)\n",
      "('1999', 'Grand Theft Auto 2', '1 million[206]', 'PS1 Greatest Hits')\n",
      "('2001', 'Grand Theft Auto III', '17.5 million[207]', 'PS2 Greatest Hits, Platinum')\n",
      "('2002', 'Grand Theft Auto: Vice City', '20 million[207]', 'PS2 Greatest Hits, Platinum')\n",
      "('2004', 'Grand Theft Auto: San Andreas', '27.5 million[208][209]', 'PS2 Greatest Hits, Platinum Xbox Platinum Hits PS3 Greatest Hits Xbox 360 Platinum Hits')\n",
      "('2004', 'Grand Theft Auto Advance', '100000', nan)\n",
      "('2005', 'Grand Theft Auto: Liberty City Stories', '8 million[207]', 'PSP Greatest Hits, Platinum PS2 Platinum')\n",
      "('2006', 'Grand Theft Auto: Vice City Stories', '4.5 million[207]', 'PSP Greatest Hits, Platinum PS2 Platinum')\n",
      "('2008', 'Grand Theft Auto IV', '25 million+[210][211]', 'PS3 Greatest Hits, Platinum Xbox 360 Platinum Hits')\n",
      "('2009', 'Grand Theft Auto IV: The Lost and Damned', '1 million+[212][213]', nan)\n",
      "('2009', 'Grand Theft Auto: Chinatown Wars', '200,000[214]', 'PSP Greatest Hits')\n",
      "('2009', 'Grand Theft Auto: The Ballad of Gay Tony', nan, nan)\n",
      "('2009', 'Grand Theft Auto: Episodes from Liberty City', '160,000+[215]', 'PS3 Greatest Hits Xbox 360 Platinum Hits')\n",
      "('2013', 'Grand Theft Auto V', '130 million[216]', 'PS3 Greatest Hits Xbox 360 Platinum Hits')\n",
      "('Total series sales: 235 million+[194][217]', 'Total series sales: 235 million+[194][217]', 'Total series sales: 235 million+[194][217]', 'Total series sales: 235 million+[194][217]')\n"
     ]
    }
   ],
   "source": [
    "for i in gta.itertuples(index=False, name=None):\n",
    "    print(i)"
   ]
  },
  {
   "cell_type": "code",
   "execution_count": 37,
   "metadata": {},
   "outputs": [],
   "source": [
    "list_gta_entries = list(gta.itertuples(index=False, name=None))"
   ]
  },
  {
   "cell_type": "code",
   "execution_count": 41,
   "metadata": {},
   "outputs": [
    {
     "data": {
      "text/plain": [
       "[('1997',\n",
       "  'Grand Theft Auto',\n",
       "  '3.5 million+[205]',\n",
       "  'PS1 Greatest Hits, Platinum'),\n",
       " ('1999', 'Grand Theft Auto: London 1969', nan, nan),\n",
       " ('1999', 'Grand Theft Auto: London 1961', nan, nan)]"
      ]
     },
     "execution_count": 41,
     "metadata": {},
     "output_type": "execute_result"
    }
   ],
   "source": [
    "list_gta_entries[0:3]"
   ]
  },
  {
   "cell_type": "code",
   "execution_count": 42,
   "metadata": {},
   "outputs": [],
   "source": [
    "connection.close()"
   ]
  },
  {
   "cell_type": "code",
   "execution_count": 45,
   "metadata": {},
   "outputs": [],
   "source": [
    "connection = sql.connect('test.db')\n",
    "cursor = connection.cursor()\n",
    "\n",
    "cursor.execute(\"drop table if exists gta\")\n",
    "cursor.execute(\"create table gta (year integer, title text, sales text, label text)\")\n",
    "\n",
    "connection.close()"
   ]
  },
  {
   "cell_type": "code",
   "execution_count": 59,
   "metadata": {},
   "outputs": [
    {
     "data": {
      "text/plain": [
       "<sqlite3.Cursor at 0x7f90a9761c00>"
      ]
     },
     "execution_count": 59,
     "metadata": {},
     "output_type": "execute_result"
    }
   ],
   "source": [
    "connection = sql.connect(\"test.db\")\n",
    "cursor = connection.cursor()\n",
    "\n",
    "cursor.execute(\"drop table if exists gta\")\n",
    "cursor.execute(\"create table gta (year integer, title text, sales text, label text)\")\n",
    "cursor.executemany(\"insert into gta values(?, ?, ?, ?)\", list_gta_entries)"
   ]
  },
  {
   "cell_type": "code",
   "execution_count": 60,
   "metadata": {},
   "outputs": [
    {
     "name": "stdout",
     "output_type": "stream",
     "text": [
      "(1997, 'Grand Theft Auto', '3.5 million+[205]', 'PS1 Greatest Hits, Platinum')\n",
      "(1999, 'Grand Theft Auto: London 1969', None, None)\n",
      "(1999, 'Grand Theft Auto: London 1961', None, None)\n",
      "(1999, 'Grand Theft Auto 2', '1 million[206]', 'PS1 Greatest Hits')\n",
      "(2001, 'Grand Theft Auto III', '17.5 million[207]', 'PS2 Greatest Hits, Platinum')\n",
      "(2002, 'Grand Theft Auto: Vice City', '20 million[207]', 'PS2 Greatest Hits, Platinum')\n",
      "(2004, 'Grand Theft Auto: San Andreas', '27.5 million[208][209]', 'PS2 Greatest Hits, Platinum Xbox Platinum Hits PS3 Greatest Hits Xbox 360 Platinum Hits')\n",
      "(2004, 'Grand Theft Auto Advance', '100000', None)\n",
      "(2005, 'Grand Theft Auto: Liberty City Stories', '8 million[207]', 'PSP Greatest Hits, Platinum PS2 Platinum')\n",
      "(2006, 'Grand Theft Auto: Vice City Stories', '4.5 million[207]', 'PSP Greatest Hits, Platinum PS2 Platinum')\n",
      "(2008, 'Grand Theft Auto IV', '25 million+[210][211]', 'PS3 Greatest Hits, Platinum Xbox 360 Platinum Hits')\n",
      "(2009, 'Grand Theft Auto IV: The Lost and Damned', '1 million+[212][213]', None)\n",
      "(2009, 'Grand Theft Auto: Chinatown Wars', '200,000[214]', 'PSP Greatest Hits')\n",
      "(2009, 'Grand Theft Auto: The Ballad of Gay Tony', None, None)\n",
      "(2009, 'Grand Theft Auto: Episodes from Liberty City', '160,000+[215]', 'PS3 Greatest Hits Xbox 360 Platinum Hits')\n",
      "(2013, 'Grand Theft Auto V', '130 million[216]', 'PS3 Greatest Hits Xbox 360 Platinum Hits')\n",
      "('Total series sales: 235 million+[194][217]', 'Total series sales: 235 million+[194][217]', 'Total series sales: 235 million+[194][217]', 'Total series sales: 235 million+[194][217]')\n"
     ]
    }
   ],
   "source": [
    "\n",
    "for row in cursor.execute('select * from gta'):\n",
    "    print(row)"
   ]
  },
  {
   "cell_type": "code",
   "execution_count": 61,
   "metadata": {},
   "outputs": [
    {
     "data": {
      "text/plain": [
       "[(1997,\n",
       "  'Grand Theft Auto',\n",
       "  '3.5 million+[205]',\n",
       "  'PS1 Greatest Hits, Platinum'),\n",
       " (1999, 'Grand Theft Auto: London 1969', None, None),\n",
       " (1999, 'Grand Theft Auto: London 1961', None, None),\n",
       " (1999, 'Grand Theft Auto 2', '1 million[206]', 'PS1 Greatest Hits'),\n",
       " (2001,\n",
       "  'Grand Theft Auto III',\n",
       "  '17.5 million[207]',\n",
       "  'PS2 Greatest Hits, Platinum'),\n",
       " (2002,\n",
       "  'Grand Theft Auto: Vice City',\n",
       "  '20 million[207]',\n",
       "  'PS2 Greatest Hits, Platinum'),\n",
       " (2004,\n",
       "  'Grand Theft Auto: San Andreas',\n",
       "  '27.5 million[208][209]',\n",
       "  'PS2 Greatest Hits, Platinum Xbox Platinum Hits PS3 Greatest Hits Xbox 360 Platinum Hits'),\n",
       " (2004, 'Grand Theft Auto Advance', '100000', None),\n",
       " (2005,\n",
       "  'Grand Theft Auto: Liberty City Stories',\n",
       "  '8 million[207]',\n",
       "  'PSP Greatest Hits, Platinum PS2 Platinum'),\n",
       " (2006,\n",
       "  'Grand Theft Auto: Vice City Stories',\n",
       "  '4.5 million[207]',\n",
       "  'PSP Greatest Hits, Platinum PS2 Platinum'),\n",
       " (2008,\n",
       "  'Grand Theft Auto IV',\n",
       "  '25 million+[210][211]',\n",
       "  'PS3 Greatest Hits, Platinum Xbox 360 Platinum Hits'),\n",
       " (2009,\n",
       "  'Grand Theft Auto IV: The Lost and Damned',\n",
       "  '1 million+[212][213]',\n",
       "  None),\n",
       " (2009,\n",
       "  'Grand Theft Auto: Chinatown Wars',\n",
       "  '200,000[214]',\n",
       "  'PSP Greatest Hits'),\n",
       " (2009, 'Grand Theft Auto: The Ballad of Gay Tony', None, None),\n",
       " (2009,\n",
       "  'Grand Theft Auto: Episodes from Liberty City',\n",
       "  '160,000+[215]',\n",
       "  'PS3 Greatest Hits Xbox 360 Platinum Hits'),\n",
       " (2013,\n",
       "  'Grand Theft Auto V',\n",
       "  '130 million[216]',\n",
       "  'PS3 Greatest Hits Xbox 360 Platinum Hits'),\n",
       " ('Total series sales: 235 million+[194][217]',\n",
       "  'Total series sales: 235 million+[194][217]',\n",
       "  'Total series sales: 235 million+[194][217]',\n",
       "  'Total series sales: 235 million+[194][217]')]"
      ]
     },
     "execution_count": 61,
     "metadata": {},
     "output_type": "execute_result"
    }
   ],
   "source": [
    "cursor.execute(\"select * from gta\")\n",
    "cursor.fetchall()"
   ]
  },
  {
   "cell_type": "code",
   "execution_count": 62,
   "metadata": {},
   "outputs": [],
   "source": [
    "connection.close()"
   ]
  },
  {
   "cell_type": "code",
   "execution_count": 65,
   "metadata": {},
   "outputs": [
    {
     "data": {
      "text/plain": [
       "<sqlite3.Cursor at 0x7f90a97565e0>"
      ]
     },
     "execution_count": 65,
     "metadata": {},
     "output_type": "execute_result"
    }
   ],
   "source": [
    "conn = sql.connect('test.db')\n",
    "cursor = conn.cursor()\n",
    "\n",
    "cursor.executemany('insert into gta values (?,?,?,?)', list_gta_entries)"
   ]
  },
  {
   "cell_type": "code",
   "execution_count": 66,
   "metadata": {},
   "outputs": [
    {
     "data": {
      "text/plain": [
       "[(1997,\n",
       "  'Grand Theft Auto',\n",
       "  '3.5 million+[205]',\n",
       "  'PS1 Greatest Hits, Platinum'),\n",
       " (1999, 'Grand Theft Auto: London 1969', None, None),\n",
       " (1999, 'Grand Theft Auto: London 1961', None, None),\n",
       " (1999, 'Grand Theft Auto 2', '1 million[206]', 'PS1 Greatest Hits'),\n",
       " (2001,\n",
       "  'Grand Theft Auto III',\n",
       "  '17.5 million[207]',\n",
       "  'PS2 Greatest Hits, Platinum'),\n",
       " (2002,\n",
       "  'Grand Theft Auto: Vice City',\n",
       "  '20 million[207]',\n",
       "  'PS2 Greatest Hits, Platinum'),\n",
       " (2004,\n",
       "  'Grand Theft Auto: San Andreas',\n",
       "  '27.5 million[208][209]',\n",
       "  'PS2 Greatest Hits, Platinum Xbox Platinum Hits PS3 Greatest Hits Xbox 360 Platinum Hits'),\n",
       " (2004, 'Grand Theft Auto Advance', '100000', None),\n",
       " (2005,\n",
       "  'Grand Theft Auto: Liberty City Stories',\n",
       "  '8 million[207]',\n",
       "  'PSP Greatest Hits, Platinum PS2 Platinum'),\n",
       " (2006,\n",
       "  'Grand Theft Auto: Vice City Stories',\n",
       "  '4.5 million[207]',\n",
       "  'PSP Greatest Hits, Platinum PS2 Platinum'),\n",
       " (2008,\n",
       "  'Grand Theft Auto IV',\n",
       "  '25 million+[210][211]',\n",
       "  'PS3 Greatest Hits, Platinum Xbox 360 Platinum Hits'),\n",
       " (2009,\n",
       "  'Grand Theft Auto IV: The Lost and Damned',\n",
       "  '1 million+[212][213]',\n",
       "  None),\n",
       " (2009,\n",
       "  'Grand Theft Auto: Chinatown Wars',\n",
       "  '200,000[214]',\n",
       "  'PSP Greatest Hits'),\n",
       " (2009, 'Grand Theft Auto: The Ballad of Gay Tony', None, None),\n",
       " (2009,\n",
       "  'Grand Theft Auto: Episodes from Liberty City',\n",
       "  '160,000+[215]',\n",
       "  'PS3 Greatest Hits Xbox 360 Platinum Hits'),\n",
       " (2013,\n",
       "  'Grand Theft Auto V',\n",
       "  '130 million[216]',\n",
       "  'PS3 Greatest Hits Xbox 360 Platinum Hits'),\n",
       " ('Total series sales: 235 million+[194][217]',\n",
       "  'Total series sales: 235 million+[194][217]',\n",
       "  'Total series sales: 235 million+[194][217]',\n",
       "  'Total series sales: 235 million+[194][217]')]"
      ]
     },
     "execution_count": 66,
     "metadata": {},
     "output_type": "execute_result"
    }
   ],
   "source": [
    "cursor.execute('select * from gta')\n",
    "cursor.fetchall()"
   ]
  },
  {
   "cell_type": "code",
   "execution_count": 67,
   "metadata": {},
   "outputs": [
    {
     "data": {
      "text/plain": [
       "[(1997,\n",
       "  'Grand Theft Auto',\n",
       "  '3.5 million+[205]',\n",
       "  'PS1 Greatest Hits, Platinum')]"
      ]
     },
     "execution_count": 67,
     "metadata": {},
     "output_type": "execute_result"
    }
   ],
   "source": [
    "cursor.execute('select * from gta where Year = 1997')\n",
    "cursor.fetchall()"
   ]
  },
  {
   "cell_type": "code",
   "execution_count": 69,
   "metadata": {},
   "outputs": [
    {
     "data": {
      "text/plain": [
       "[(1997,\n",
       "  'Grand Theft Auto',\n",
       "  '3.5 million+[205]',\n",
       "  'PS1 Greatest Hits, Platinum')]"
      ]
     },
     "execution_count": 69,
     "metadata": {},
     "output_type": "execute_result"
    }
   ],
   "source": [
    "cursor.execute('select * from gta where Year=:y', dict(y=1997))\n",
    "cursor.fetchall()"
   ]
  },
  {
   "cell_type": "code",
   "execution_count": 71,
   "metadata": {},
   "outputs": [
    {
     "data": {
      "text/plain": [
       "[(2002,\n",
       "  'Grand Theft Auto: Vice City',\n",
       "  '20 million[207]',\n",
       "  'PS2 Greatest Hits, Platinum')]"
      ]
     },
     "execution_count": 71,
     "metadata": {},
     "output_type": "execute_result"
    }
   ],
   "source": [
    "cursor.execute('select * from gta where year=:y', {'y':2002})\n",
    "cursor.fetchall()"
   ]
  },
  {
   "cell_type": "code",
   "execution_count": 74,
   "metadata": {},
   "outputs": [
    {
     "data": {
      "text/plain": [
       "<sqlite3.Cursor at 0x7f90a97565e0>"
      ]
     },
     "execution_count": 74,
     "metadata": {},
     "output_type": "execute_result"
    }
   ],
   "source": [
    "cursor.execute('drop table if exists myranking')\n",
    "cursor.execute('create table myranking (title text, myrank integer)')\n",
    "cursor.execute('insert into myranking (title, myrank) values (\"Grand Theft Auto V\", 1)')\n",
    "cursor.execute('insert into myranking (title, myrank) values (\"Grand Theft Auto 2\", 2)')"
   ]
  },
  {
   "cell_type": "code",
   "execution_count": 75,
   "metadata": {},
   "outputs": [
    {
     "data": {
      "text/plain": [
       "[('Grand Theft Auto V', 1), ('Grand Theft Auto 2', 2)]"
      ]
     },
     "execution_count": 75,
     "metadata": {},
     "output_type": "execute_result"
    }
   ],
   "source": [
    "cursor.execute('select * from myranking')\n",
    "cursor.fetchall()"
   ]
  },
  {
   "cell_type": "code",
   "execution_count": 78,
   "metadata": {},
   "outputs": [
    {
     "ename": "OperationalError",
     "evalue": "no such column: g.Game",
     "output_type": "error",
     "traceback": [
      "\u001b[0;31m---------------------------------------------------------------------------\u001b[0m",
      "\u001b[0;31mOperationalError\u001b[0m                          Traceback (most recent call last)",
      "\u001b[0;32m/var/folders/15/n6g6gt4j6pqd8lxz7w7khwhw0000gn/T/ipykernel_49995/2315976753.py\u001b[0m in \u001b[0;36m<module>\u001b[0;34m\u001b[0m\n\u001b[0;32m----> 1\u001b[0;31m \u001b[0mcursor\u001b[0m\u001b[0;34m.\u001b[0m\u001b[0mexecute\u001b[0m\u001b[0;34m(\u001b[0m\u001b[0;34m'select g.Year, g.Game, m.myrank from gta as g join myranking as m on g.Game = m.title'\u001b[0m\u001b[0;34m)\u001b[0m\u001b[0;34m\u001b[0m\u001b[0;34m\u001b[0m\u001b[0m\n\u001b[0m",
      "\u001b[0;31mOperationalError\u001b[0m: no such column: g.Game"
     ]
    }
   ],
   "source": [
    "cursor.execute('select g.Year, g.Game, m.myrank from gta as g join myranking as m on g.Game = m.title')"
   ]
  },
  {
   "cell_type": "code",
   "execution_count": null,
   "metadata": {},
   "outputs": [],
   "source": []
  }
 ],
 "metadata": {
  "kernelspec": {
   "display_name": "base",
   "language": "python",
   "name": "python3"
  },
  "language_info": {
   "codemirror_mode": {
    "name": "ipython",
    "version": 3
   },
   "file_extension": ".py",
   "mimetype": "text/x-python",
   "name": "python",
   "nbconvert_exporter": "python",
   "pygments_lexer": "ipython3",
   "version": "3.9.13"
  },
  "orig_nbformat": 4,
  "vscode": {
   "interpreter": {
    "hash": "41adbeb2bd4652bc86685a57e93de552aafd6479db1aaf0306b72ce89392c278"
   }
  }
 },
 "nbformat": 4,
 "nbformat_minor": 2
}
