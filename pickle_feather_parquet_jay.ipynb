{
 "cells": [
  {
   "cell_type": "code",
   "execution_count": 3,
   "id": "ab5aa715",
   "metadata": {},
   "outputs": [],
   "source": [
    "import numpy as np\n",
    "import pandas as pd\n",
    "import glob"
   ]
  },
  {
   "cell_type": "code",
   "execution_count": 7,
   "id": "c6615106",
   "metadata": {},
   "outputs": [
    {
     "name": "stdout",
     "output_type": "stream",
     "text": [
      "     Country name Regional indicator  Ladder score  \\\n",
      "0         Finland     Western Europe        7.8087   \n",
      "1         Denmark     Western Europe        7.6456   \n",
      "2     Switzerland     Western Europe        7.5599   \n",
      "3         Iceland     Western Europe        7.5045   \n",
      "4          Norway     Western Europe        7.4880   \n",
      "...           ...                ...           ...   \n",
      "1079          NaN                NaN           NaN   \n",
      "1080          NaN                NaN           NaN   \n",
      "1081          NaN                NaN           NaN   \n",
      "1082          NaN                NaN           NaN   \n",
      "1083          NaN                NaN           NaN   \n",
      "\n",
      "      Standard error of ladder score  upperwhisker  lowerwhisker  \\\n",
      "0                           0.031156      7.869766      7.747634   \n",
      "1                           0.033492      7.711245      7.579955   \n",
      "2                           0.035014      7.628528      7.491272   \n",
      "3                           0.059616      7.621347      7.387653   \n",
      "4                           0.034837      7.556281      7.419719   \n",
      "...                              ...           ...           ...   \n",
      "1079                             NaN           NaN           NaN   \n",
      "1080                             NaN           NaN           NaN   \n",
      "1081                             NaN           NaN           NaN   \n",
      "1082                             NaN           NaN           NaN   \n",
      "1083                             NaN           NaN           NaN   \n",
      "\n",
      "      Logged GDP per capita  Social support  Healthy life expectancy  \\\n",
      "0                 10.639267        0.954330                71.900825   \n",
      "1                 10.774001        0.955991                72.402504   \n",
      "2                 10.979933        0.942847                74.102448   \n",
      "3                 10.772559        0.974670                73.000000   \n",
      "4                 11.087804        0.952487                73.200783   \n",
      "...                     ...             ...                      ...   \n",
      "1079                    NaN             NaN                      NaN   \n",
      "1080                    NaN             NaN                      NaN   \n",
      "1081                    NaN             NaN                      NaN   \n",
      "1082                    NaN             NaN                      NaN   \n",
      "1083                    NaN             NaN                      NaN   \n",
      "\n",
      "      Freedom to make life choices  ...  Lower Confidence Interval  \\\n",
      "0                         0.949172  ...                        NaN   \n",
      "1                         0.951444  ...                        NaN   \n",
      "2                         0.921337  ...                        NaN   \n",
      "3                         0.948892  ...                        NaN   \n",
      "4                         0.955750  ...                        NaN   \n",
      "...                            ...  ...                        ...   \n",
      "1079                           NaN  ...                        NaN   \n",
      "1080                           NaN  ...                        NaN   \n",
      "1081                           NaN  ...                        NaN   \n",
      "1082                           NaN  ...                        NaN   \n",
      "1083                           NaN  ...                        NaN   \n",
      "\n",
      "      Upper Confidence Interval  Happiness.Rank  Happiness.Score  \\\n",
      "0                           NaN             NaN              NaN   \n",
      "1                           NaN             NaN              NaN   \n",
      "2                           NaN             NaN              NaN   \n",
      "3                           NaN             NaN              NaN   \n",
      "4                           NaN             NaN              NaN   \n",
      "...                         ...             ...              ...   \n",
      "1079                        NaN           151.0            3.471   \n",
      "1080                        NaN           152.0            3.462   \n",
      "1081                        NaN           153.0            3.349   \n",
      "1082                        NaN           154.0            2.905   \n",
      "1083                        NaN           155.0            2.693   \n",
      "\n",
      "      Whisker.high  Whisker.low  Economy..GDP.per.Capita.  \\\n",
      "0              NaN          NaN                       NaN   \n",
      "1              NaN          NaN                       NaN   \n",
      "2              NaN          NaN                       NaN   \n",
      "3              NaN          NaN                       NaN   \n",
      "4              NaN          NaN                       NaN   \n",
      "...            ...          ...                       ...   \n",
      "1079      3.543030     3.398970                  0.368746   \n",
      "1080      3.663669     3.260331                  0.777153   \n",
      "1081      3.461430     3.236570                  0.511136   \n",
      "1082      3.074690     2.735310                  0.091623   \n",
      "1083      2.864884     2.521116                  0.000000   \n",
      "\n",
      "      Health..Life.Expectancy.  Trust..Government.Corruption.  \\\n",
      "0                          NaN                            NaN   \n",
      "1                          NaN                            NaN   \n",
      "2                          NaN                            NaN   \n",
      "3                          NaN                            NaN   \n",
      "4                          NaN                            NaN   \n",
      "...                        ...                            ...   \n",
      "1079                  0.326425                       0.455220   \n",
      "1080                  0.500533                       0.151347   \n",
      "1081                  0.364509                       0.066035   \n",
      "1082                  0.151611                       0.084148   \n",
      "1083                  0.018773                       0.056565   \n",
      "\n",
      "      Dystopia.Residual  \n",
      "0                   NaN  \n",
      "1                   NaN  \n",
      "2                   NaN  \n",
      "3                   NaN  \n",
      "4                   NaN  \n",
      "...                 ...  \n",
      "1079           0.540061  \n",
      "1080           1.061574  \n",
      "1081           0.621130  \n",
      "1082           1.683024  \n",
      "1083           2.066005  \n",
      "\n",
      "[1084 rows x 45 columns]\n"
     ]
    }
   ],
   "source": [
    "file_list = glob.glob(\"*.csv\")\n",
    "files = []\n",
    "for filename in file_list:\n",
    "    df = pd.read_csv(filename)\n",
    "    files.append(df)\n",
    "frame = pd.concat(files, axis=0, ignore_index=True)\n",
    "print(frame)"
   ]
  },
  {
   "cell_type": "code",
   "execution_count": 6,
   "id": "ed328d6a",
   "metadata": {},
   "outputs": [
    {
     "data": {
      "text/plain": [
       "['2020.csv',\n",
       " '2021.csv',\n",
       " '2019.csv',\n",
       " '2018.csv',\n",
       " '2015.csv',\n",
       " '2016.csv',\n",
       " '2017.csv']"
      ]
     },
     "execution_count": 6,
     "metadata": {},
     "output_type": "execute_result"
    }
   ],
   "source": [
    "glob.glob(\"*.csv\")"
   ]
  },
  {
   "cell_type": "code",
   "execution_count": 13,
   "id": "78c8c6ca",
   "metadata": {},
   "outputs": [],
   "source": [
    "frame.to_pickle('pickle_2015-2021')"
   ]
  },
  {
   "cell_type": "code",
   "execution_count": 14,
   "id": "da6f2dd0",
   "metadata": {},
   "outputs": [],
   "source": [
    "frame.to_feather('feather_2015-2021')"
   ]
  },
  {
   "cell_type": "code",
   "execution_count": 16,
   "id": "b6d9c887",
   "metadata": {},
   "outputs": [],
   "source": [
    "frame.to_parquet('parquet_2015-2021')"
   ]
  },
  {
   "cell_type": "code",
   "execution_count": 17,
   "id": "38162da9",
   "metadata": {},
   "outputs": [
    {
     "name": "stdout",
     "output_type": "stream",
     "text": [
      "50.8 ms ± 2.24 ms per loop (mean ± std. dev. of 7 runs, 10 loops each)\n"
     ]
    }
   ],
   "source": [
    "%%timeit\n",
    "frame.to_csv('2015-2021.csv')"
   ]
  },
  {
   "cell_type": "code",
   "execution_count": 18,
   "id": "1092d940",
   "metadata": {},
   "outputs": [],
   "source": [
    "frame.to_json('json_2015-2021')"
   ]
  },
  {
   "cell_type": "code",
   "execution_count": null,
   "id": "c81655e7",
   "metadata": {},
   "outputs": [],
   "source": []
  }
 ],
 "metadata": {
  "kernelspec": {
   "display_name": "Python 3 (ipykernel)",
   "language": "python",
   "name": "python3"
  },
  "language_info": {
   "codemirror_mode": {
    "name": "ipython",
    "version": 3
   },
   "file_extension": ".py",
   "mimetype": "text/x-python",
   "name": "python",
   "nbconvert_exporter": "python",
   "pygments_lexer": "ipython3",
   "version": "3.9.13"
  }
 },
 "nbformat": 4,
 "nbformat_minor": 5
}
